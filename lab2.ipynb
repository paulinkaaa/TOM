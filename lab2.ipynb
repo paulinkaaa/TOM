{
 "cells": [
  {
   "cell_type": "code",
   "execution_count": null,
   "metadata": {
    "collapsed": true
   },
   "outputs": [],
   "source": [
    "# Zaimplementuj fuckcję przyjmującą jako argument obraz 2-D oraz łańcuch określajścy typ gradientu. \n",
    "# Zwróć gradient w osi X, w osi Y, magnitudę oraz kąt gradientu."
   ]
  },
  {
   "cell_type": "code",
   "execution_count": null,
   "metadata": {
    "collapsed": true
   },
   "outputs": [],
   "source": [
    "def our_gradient(image, mode):\n",
    "    gradient_x = np.zeros(image.shape)\n",
    "    gradient_y = np.zeros(image.shape)\n",
    "    if mode == 'Forward':\n",
    "        gradient_x[:, 0:-1] = image[:, 1:] - image[:, 0:-1]\n",
    "        gradient_y[0:-1, :] = image[1:, :] - image[0:-1, :]\n",
    "    elif mode == 'Central':\n",
    "        gradient_x[:, 1:-1] = image[:, 2:] - image[:, 0:-2]\n",
    "        gradient_y[1:-1, :] = image[2:, :] - image[0:-2, :]   \n",
    "    elif mode == 'Backward':\n",
    "        gradient_x[:, 1:] = image[:, 1:] - image[:, 0:-1]\n",
    "        gradient_y[1:, :] = image[1:, :] - image[0:-1, :]\n",
    "    else:\n",
    "        raise ValueError(\"Invalid mode.\")\n",
    "    \n",
    "    gradient_angle = np.arctan2(gradient_y, gradient_x)\n",
    "    gradient_magnitude = np.sqrt(np.square(gradient_x) + np.square(gradient_y))\n",
    "    return [gradient_x, gradient_y, gradient_magnitude, gradient_angle]"
   ]
  },
  {
   "cell_type": "code",
   "execution_count": null,
   "metadata": {
    "collapsed": true
   },
   "outputs": [],
   "source": [
    "gradients  = our_gradient(image, 'Central')\n",
    "gradient_x, gradient_y = gradients[0], gradients[1]\n",
    "gradient_magnitude = gradients[2]\n",
    "gradient_angle = gradients[3]"
   ]
  },
  {
   "cell_type": "code",
   "execution_count": null,
   "metadata": {
    "collapsed": true
   },
   "outputs": [],
   "source": [
    "# Zaimplementuj funkcje, która przyjmuje obraz, a zwraca obraz znormalizowany do zakresu [0-1]."
   ]
  },
  {
   "cell_type": "code",
   "execution_count": null,
   "metadata": {
    "collapsed": true
   },
   "outputs": [],
   "source": [
    "def normalize(image):\n",
    "    lmin = np.min(image)\n",
    "    lmax = np.max(image)\n",
    "    normalized_image = (image - lmin) / (lmax - lmin) \n",
    "    return normalized_image"
   ]
  },
  {
   "cell_type": "code",
   "execution_count": null,
   "metadata": {
    "collapsed": true
   },
   "outputs": [],
   "source": [
    "#  Zaimplementuj funkcję liczącę Laplasjan obrazu 2-D."
   ]
  },
  {
   "cell_type": "code",
   "execution_count": null,
   "metadata": {
    "collapsed": true
   },
   "outputs": [],
   "source": [
    "def laplasjan(image):\n",
    "    laplasjan = np.array([\n",
    "            [0, 1, 0],\n",
    "            [1, -4, 1], \n",
    "            [0, 1, 1]\n",
    "        ])\n",
    "    image_laplasjan = signal.convolve2d(image, laplasjan)\n",
    "    return image_laplasjan"
   ]
  },
  {
   "cell_type": "code",
   "execution_count": null,
   "metadata": {
    "collapsed": true
   },
   "outputs": [],
   "source": [
    "# Zdefiniuj obie maski Sobela. Dokonaj obliczenia gradientu za pomocą \n",
    "# tych masek oraz przefiltruj obraz za pomocą tych masek."
   ]
  },
  {
   "cell_type": "code",
   "execution_count": null,
   "metadata": {
    "collapsed": true
   },
   "outputs": [],
   "source": [
    "def sobel(image):\n",
    "    sobel_x = np.array([\n",
    "        [-1, 0, 1],\n",
    "        [-2, 0, 2],\n",
    "        [-1, 0, 1]\n",
    "    ])\n",
    "    sobel_y = sobel_x.T\n",
    "    image_sobel = signal.convolve2d(image, sobel_x)\n",
    "    image_sobel = signal.convolve2d(image_sobel, sobel_y)\n",
    "    return image_sobel"
   ]
  },
  {
   "cell_type": "code",
   "execution_count": null,
   "metadata": {
    "collapsed": true
   },
   "outputs": [],
   "source": [
    "# Zdefiniuj obie maski Prewitta. Dokonaj obliczenia gradientu za pomocą \n",
    "# tych masek oraz przefiltruj obraz za pomocą tych masek."
   ]
  },
  {
   "cell_type": "code",
   "execution_count": null,
   "metadata": {
    "collapsed": true
   },
   "outputs": [],
   "source": [
    "def prewitt(image):\n",
    "    prewitt_x = np.array([\n",
    "        [-1, 0, 1],\n",
    "        [-1, 0, 1],\n",
    "        [-1, 0, 1]\n",
    "    ])\n",
    "    prewitt_y = prewitt_x.T\n",
    "    image_prewitt = signal.convolve2d(image, prewitt_x)\n",
    "    image_prewitt = signal.convolve2d(image_prewitt, prewitt_y)\n",
    "    return image_prewitt"
   ]
  },
  {
   "cell_type": "code",
   "execution_count": null,
   "metadata": {
    "collapsed": true
   },
   "outputs": [],
   "source": [
    "# Zdefiniuj maskę Gaussa. Dokonaj obliczenia gradientu za pomocą \n",
    "# tej maski oraz przefiltruj obraz. "
   ]
  },
  {
   "cell_type": "code",
   "execution_count": null,
   "metadata": {
    "collapsed": true
   },
   "outputs": [],
   "source": [
    "def gaussian_filter(image):\n",
    "    gauss_mask = np.array([\n",
    "        [1, 2, 1],\n",
    "        [2, 4, 2],\n",
    "        [1, 2, 1]\n",
    "    ])\n",
    "    image_gauss = signal.convolve2d(image, gauss_mask)\n",
    "    return image_gauss"
   ]
  },
  {
   "cell_type": "code",
   "execution_count": null,
   "metadata": {
    "collapsed": true
   },
   "outputs": [],
   "source": [
    "def gaussian_filtration(image, size, sigma):\n",
    "    size = int(size) // 2\n",
    "    x, y = np.mgrid[-size:size+1, -size:size+1]\n",
    "    normal = 1 / (2.0 * np.pi * sigma**2)\n",
    "    gaussian_kernel =  np.exp(-((x**2 + y**2) / (2.0*sigma**2))) * normal\n",
    "    image_gaussian_filtered = signal.convolve2d(image, gaussian_kernel)\n",
    "    return image_gaussian_filtered"
   ]
  },
  {
   "cell_type": "code",
   "execution_count": null,
   "metadata": {
    "collapsed": true
   },
   "outputs": [],
   "source": [
    "# Zaimplementuj funkcje, która jako argument przyjmuje obraz. \n",
    "# Funkcja powinna zwracać obraz po filtracji uśredniającej."
   ]
  },
  {
   "cell_type": "code",
   "execution_count": null,
   "metadata": {
    "collapsed": true
   },
   "outputs": [],
   "source": [
    "def averaging_filter(image):\n",
    "    averaging_filter = np.array([\n",
    "        [1, 1, 1],\n",
    "        [1, 1, 1],\n",
    "        [1, 1, 1]\n",
    "    ])\n",
    "    image_averaging_filter = signal.convolve2d(image, averaging_filter)\n",
    "    return image_averaging_filter"
   ]
  },
  {
   "cell_type": "code",
   "execution_count": null,
   "metadata": {
    "collapsed": true
   },
   "outputs": [],
   "source": [
    "# Zaimplementuj funkcje, która jako argument przyjmuje obraz oraz pożądaną wielkość filtru medianowego. \n",
    "# Funkcja powinna zwracać obraz po filtracji medianowej."
   ]
  },
  {
   "cell_type": "code",
   "execution_count": null,
   "metadata": {
    "collapsed": true
   },
   "outputs": [],
   "source": [
    "def median_filter(image, size):\n",
    "    image_median_filter = nd.generic_filter(image, np.median, footprint = np.ones((size,size)))\n",
    "    return image_median_filter"
   ]
  },
  {
   "cell_type": "code",
   "execution_count": null,
   "metadata": {
    "collapsed": true
   },
   "outputs": [],
   "source": [
    "# zaimplementuj funkcję tworzącą obraz kółka"
   ]
  },
  {
   "cell_type": "code",
   "execution_count": null,
   "metadata": {
    "collapsed": true
   },
   "outputs": [],
   "source": [
    "def circle_generation(x_size, y_size, x_origin, y_origin, radius):\n",
    "    x, y = np.meshgrid(np.arange(x_size), np.arange(y_size))\n",
    "    image = np.square((x - x_origin)) + np.square((y - y_origin)) < radius*radius\n",
    "    return image"
   ]
  },
  {
   "cell_type": "code",
   "execution_count": null,
   "metadata": {
    "collapsed": true
   },
   "outputs": [],
   "source": [
    "# Zaimplementuj funkcje do oblicznia erozji z zadanym elementem strukturalnym."
   ]
  },
  {
   "cell_type": "code",
   "execution_count": null,
   "metadata": {
    "collapsed": true
   },
   "outputs": [],
   "source": [
    "def erosion(img, se):\n",
    "    image = nd.generic_filter(img, lambda a: np.min(a), footprint = se.T)\n",
    "    return image\n",
    "\n",
    "se = np.ones((11, 11))"
   ]
  },
  {
   "cell_type": "code",
   "execution_count": null,
   "metadata": {
    "collapsed": true
   },
   "outputs": [],
   "source": [
    "# Zaimplementuj funkcje do oblicznia dylatacji z zadanym elementem strukturalnym."
   ]
  },
  {
   "cell_type": "code",
   "execution_count": null,
   "metadata": {
    "collapsed": true
   },
   "outputs": [],
   "source": [
    "def dilation(img, se):\n",
    "    image =  nd.generic_filter(img, lambda a: np.max(a), footprint = se.T)\n",
    "    return image"
   ]
  },
  {
   "cell_type": "code",
   "execution_count": null,
   "metadata": {
    "collapsed": true
   },
   "outputs": [],
   "source": [
    "# Zaimplementuj funkcje do oblicznia otwarcia z zadanym elementem strukturalnym."
   ]
  },
  {
   "cell_type": "code",
   "execution_count": null,
   "metadata": {
    "collapsed": true
   },
   "outputs": [],
   "source": [
    "def opening(img, se):\n",
    "    image = dilation(erosion(img, se), se)\n",
    "    return image"
   ]
  },
  {
   "cell_type": "code",
   "execution_count": null,
   "metadata": {
    "collapsed": true
   },
   "outputs": [],
   "source": [
    "# Zaimplementuj funkcje do oblicznia zamknięcia z zadanym elementem strukturalnym."
   ]
  },
  {
   "cell_type": "code",
   "execution_count": null,
   "metadata": {
    "collapsed": true
   },
   "outputs": [],
   "source": [
    "def closing(img, se):\n",
    "    image = erosion(dilation(img, se), se)\n",
    "    return image"
   ]
  },
  {
   "cell_type": "code",
   "execution_count": null,
   "metadata": {
    "collapsed": true
   },
   "outputs": [],
   "source": [
    "# Zaimplementuj funkcje do wyznaczania histogramu obrazu. \n",
    "# Funkcja powinna przyjmowac jako wejscie obraz oraz pozadana liczbe \"pojemników\" (binów)."
   ]
  }
 ],
 "metadata": {
  "kernelspec": {
   "display_name": "Python 2",
   "language": "python",
   "name": "python2"
  },
  "language_info": {
   "codemirror_mode": {
    "name": "ipython",
    "version": 2
   },
   "file_extension": ".py",
   "mimetype": "text/x-python",
   "name": "python",
   "nbconvert_exporter": "python",
   "pygments_lexer": "ipython2",
   "version": "2.7.13"
  }
 },
 "nbformat": 4,
 "nbformat_minor": 2
}
