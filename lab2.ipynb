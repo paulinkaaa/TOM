{
 "cells": [
  {
   "cell_type": "code",
   "execution_count": null,
   "metadata": {
    "collapsed": true
   },
   "outputs": [],
   "source": [
    "# Zaimplementuj fuckcję przyjmującą jako argument obraz 2-D oraz łańcuch określajścy typ gradientu \n",
    "# Zwróć gradient w osi X, w osi Y, magnitudę oraz kąt gradientu."
   ]
  },
  {
   "cell_type": "code",
   "execution_count": null,
   "metadata": {
    "collapsed": true
   },
   "outputs": [],
   "source": [
    "def our_gradient(image, mode):\n",
    "    gradient_x = np.zeros(image.shape)\n",
    "    gradient_y = np.zeros(image.shape)\n",
    "    if mode == 'Forward':\n",
    "        gradient_x[:, 0:-1] = image[:, 1:] - image[:, 0:-1]\n",
    "        gradient_y[0:-1, :] = image[1:, :] - image[0:-1, :]\n",
    "    elif mode == 'Central':\n",
    "        gradient_x[:, 1:-1] = image[:, 2:] - image[:, 0:-2]\n",
    "        gradient_y[1:-1, :] = image[2:, :] - image[0:-2, :]   \n",
    "    elif mode == 'Backward':\n",
    "        gradient_x[:, 1:] = image[:, 1:] - image[:, 0:-1]\n",
    "        gradient_y[1:, :] = image[1:, :] - image[0:-1, :]\n",
    "    else:\n",
    "        raise ValueError(\"Invalid mode.\")\n",
    "    \n",
    "    gradient_angle = np.arctan2(gradient_y, gradient_x)\n",
    "    gradient_magnitude = np.sqrt(np.square(gradient_x) + np.square(gradient_y))\n",
    "    return [gradient_x, gradient_y, gradient_magnitude, gradient_angle]"
   ]
  },
  {
   "cell_type": "code",
   "execution_count": null,
   "metadata": {
    "collapsed": true
   },
   "outputs": [],
   "source": [
    "gradients  = our_gradient(image, 'Central')\n",
    "gradient_x, gradient_y = gradients[0], gradients[1]\n",
    "gradient_magnitude = gradients[2]\n",
    "gradient_angle = gradients[3]"
   ]
  },
  {
   "cell_type": "code",
   "execution_count": null,
   "metadata": {
    "collapsed": true
   },
   "outputs": [],
   "source": [
    "# Zaimplementuj funkcje, która przyjmuje obraz, a zwraca obraz znormalizowany do zakresu [0-1]."
   ]
  },
  {
   "cell_type": "code",
   "execution_count": null,
   "metadata": {
    "collapsed": true
   },
   "outputs": [],
   "source": [
    "def normalize(image):\n",
    "    lmin = np.min(image)\n",
    "    lmax = np.max(image)\n",
    "    normalized_image = (image - lmin) / (lmax - lmin) \n",
    "    return normalized_image"
   ]
  },
  {
   "cell_type": "code",
   "execution_count": null,
   "metadata": {
    "collapsed": true
   },
   "outputs": [],
   "source": [
    "#  Zaimplementuj funkcję liczącę Laplasjan obrazu 2-D."
   ]
  },
  {
   "cell_type": "code",
   "execution_count": null,
   "metadata": {
    "collapsed": true
   },
   "outputs": [],
   "source": [
    "def laplasjan(image):\n",
    "    laplasjan = np.array([\n",
    "            [0, 1, 0],\n",
    "            [1, -4, 1], \n",
    "            [0, 1, 1]\n",
    "        ])\n",
    "    image_laplasjan = signal.convolve2d(image, laplasjan)\n",
    "    return image_laplasjan"
   ]
  },
  {
   "cell_type": "code",
   "execution_count": null,
   "metadata": {
    "collapsed": true
   },
   "outputs": [],
   "source": [
    "# Zaimplementuj funkcje, która jako argument przyjmuje obraz oraz pożądaną wielkość filtru \n",
    "# medianowego. Funkcja powinna zwracać obraz po filtracji medianowej."
   ]
  },
  {
   "cell_type": "code",
   "execution_count": null,
   "metadata": {
    "collapsed": true
   },
   "outputs": [],
   "source": [
    "def median_filter(image, size):\n",
    "    image_median_filter = nd.generic_filter(image, np.median, footprint = np.ones((size,size)))\n",
    "    return image_median_filter"
   ]
  }
 ],
 "metadata": {
  "kernelspec": {
   "display_name": "Python 2",
   "language": "python",
   "name": "python2"
  },
  "language_info": {
   "codemirror_mode": {
    "name": "ipython",
    "version": 2
   },
   "file_extension": ".py",
   "mimetype": "text/x-python",
   "name": "python",
   "nbconvert_exporter": "python",
   "pygments_lexer": "ipython2",
   "version": "2.7.13"
  }
 },
 "nbformat": 4,
 "nbformat_minor": 2
}
