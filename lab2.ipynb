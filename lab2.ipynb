{
 "cells": [
  {
   "cell_type": "code",
   "execution_count": null,
   "metadata": {
    "collapsed": true
   },
   "outputs": [],
   "source": [
    "# Zaimplementuj fuckcję przyjmującą jako argument obraz 2-D oraz łańcuch określajścy typ gradientu. \n",
    "# Zwróć gradient w osi X, w osi Y, magnitudę oraz kąt gradientu."
   ]
  },
  {
   "cell_type": "code",
   "execution_count": null,
   "metadata": {
    "collapsed": true
   },
   "outputs": [],
   "source": [
    "def our_gradient(image, mode):\n",
    "    gradient_x = np.zeros(image.shape)\n",
    "    gradient_y = np.zeros(image.shape)\n",
    "    if mode == 'Forward':\n",
    "        gradient_x[:, 0:-1] = image[:, 1:] - image[:, 0:-1]\n",
    "        gradient_y[0:-1, :] = image[1:, :] - image[0:-1, :]\n",
    "    elif mode == 'Central':\n",
    "        gradient_x[:, 1:-1] = image[:, 2:] - image[:, 0:-2]\n",
    "        gradient_y[1:-1, :] = image[2:, :] - image[0:-2, :]   \n",
    "    elif mode == 'Backward':\n",
    "        gradient_x[:, 1:] = image[:, 1:] - image[:, 0:-1]\n",
    "        gradient_y[1:, :] = image[1:, :] - image[0:-1, :]\n",
    "    else:\n",
    "        raise ValueError(\"Invalid mode.\")\n",
    "    \n",
    "    gradient_angle = np.arctan2(gradient_y, gradient_x)\n",
    "    gradient_magnitude = np.sqrt(np.square(gradient_x) + np.square(gradient_y))\n",
    "    return [gradient_x, gradient_y, gradient_magnitude, gradient_angle]"
   ]
  },
  {
   "cell_type": "code",
   "execution_count": null,
   "metadata": {
    "collapsed": true
   },
   "outputs": [],
   "source": [
    "gradients  = our_gradient(image, 'Central')\n",
    "gradient_x, gradient_y = gradients[0], gradients[1]\n",
    "gradient_magnitude = gradients[2]\n",
    "gradient_angle = gradients[3]"
   ]
  },
  {
   "cell_type": "code",
   "execution_count": null,
   "metadata": {
    "collapsed": true
   },
   "outputs": [],
   "source": [
    "# Zaimplementuj funkcje, która przyjmuje obraz, a zwraca obraz znormalizowany do zakresu [0-1]."
   ]
  },
  {
   "cell_type": "code",
   "execution_count": null,
   "metadata": {
    "collapsed": true
   },
   "outputs": [],
   "source": [
    "def normalize(image):\n",
    "    lmin = np.min(image)\n",
    "    lmax = np.max(image)\n",
    "    normalized_image = (image - lmin) / (lmax - lmin) \n",
    "    return normalized_image"
   ]
  },
  {
   "cell_type": "code",
   "execution_count": null,
   "metadata": {
    "collapsed": true
   },
   "outputs": [],
   "source": [
    "#  Zaimplementuj funkcję liczącę Laplasjan obrazu 2-D."
   ]
  },
  {
   "cell_type": "code",
   "execution_count": null,
   "metadata": {
    "collapsed": true
   },
   "outputs": [],
   "source": [
    "def laplasjan(image):\n",
    "    laplasjan = np.array([\n",
    "            [0, 1, 0],\n",
    "            [1, -4, 1], \n",
    "            [0, 1, 0]\n",
    "        ])\n",
    "    image_laplasjan = signal.convolve2d(image, laplasjan)\n",
    "    return image_laplasjan"
   ]
  },
  {
   "cell_type": "code",
   "execution_count": null,
   "metadata": {
    "collapsed": true
   },
   "outputs": [],
   "source": [
    "# Zdefiniuj obie maski Sobela. Dokonaj obliczenia gradientu za pomocą \n",
    "# tych masek oraz przefiltruj obraz za pomocą tych masek."
   ]
  },
  {
   "cell_type": "code",
   "execution_count": null,
   "metadata": {
    "collapsed": true
   },
   "outputs": [],
   "source": [
    "def sobel(image):\n",
    "    sobel_x = np.array([\n",
    "        [-1, 0, 1],\n",
    "        [-2, 0, 2],\n",
    "        [-1, 0, 1]\n",
    "    ])\n",
    "    sobel_y = sobel_x.T\n",
    "    image_sobel = signal.convolve2d(image, sobel_x)\n",
    "    image_sobel = signal.convolve2d(image_sobel, sobel_y)\n",
    "    return image_sobel"
   ]
  },
  {
   "cell_type": "code",
   "execution_count": null,
   "metadata": {
    "collapsed": true
   },
   "outputs": [],
   "source": [
    "# Zdefiniuj obie maski Prewitta. Dokonaj obliczenia gradientu za pomocą \n",
    "# tych masek oraz przefiltruj obraz za pomocą tych masek."
   ]
  },
  {
   "cell_type": "code",
   "execution_count": null,
   "metadata": {
    "collapsed": true
   },
   "outputs": [],
   "source": [
    "def prewitt(image):\n",
    "    prewitt_x = np.array([\n",
    "        [-1, 0, 1],\n",
    "        [-1, 0, 1],\n",
    "        [-1, 0, 1]\n",
    "    ])\n",
    "    prewitt_y = prewitt_x.T\n",
    "    image_prewitt = signal.convolve2d(image, prewitt_x)\n",
    "    image_prewitt = signal.convolve2d(image_prewitt, prewitt_y)\n",
    "    return image_prewitt"
   ]
  },
  {
   "cell_type": "code",
   "execution_count": null,
   "metadata": {
    "collapsed": true
   },
   "outputs": [],
   "source": [
    "# Zdefiniuj maskę Gaussa. Dokonaj obliczenia gradientu za pomocą \n",
    "# tej maski oraz przefiltruj obraz. "
   ]
  },
  {
   "cell_type": "code",
   "execution_count": null,
   "metadata": {
    "collapsed": true
   },
   "outputs": [],
   "source": [
    "def gaussian_filter(image):\n",
    "    gauss_mask = np.array([\n",
    "        [1, 2, 1],\n",
    "        [2, 4, 2],\n",
    "        [1, 2, 1]\n",
    "    ])\n",
    "    image_gauss = signal.convolve2d(image, gauss_mask)\n",
    "    return image_gauss"
   ]
  },
  {
   "cell_type": "code",
   "execution_count": null,
   "metadata": {
    "collapsed": true
   },
   "outputs": [],
   "source": [
    "def gaussian_filtration(image, size, sigma):\n",
    "    size = int(size) // 2\n",
    "    x, y = np.mgrid[-size:size+1, -size:size+1]\n",
    "    normal = 1 / (2.0 * np.pi * sigma**2)\n",
    "    gaussian_kernel =  np.exp(-((x**2 + y**2) / (2.0*sigma**2))) * normal\n",
    "    image_gaussian_filtered = signal.convolve2d(image, gaussian_kernel)\n",
    "    return image_gaussian_filtered"
   ]
  },
  {
   "cell_type": "code",
   "execution_count": null,
   "metadata": {
    "collapsed": true
   },
   "outputs": [],
   "source": [
    "# Zaimplementuj funkcje, która jako argument przyjmuje obraz. \n",
    "# Funkcja powinna zwracać obraz po filtracji uśredniającej."
   ]
  },
  {
   "cell_type": "code",
   "execution_count": null,
   "metadata": {
    "collapsed": true
   },
   "outputs": [],
   "source": [
    "def averaging_filter(image):\n",
    "    averaging_filter = np.array([\n",
    "        [1, 1, 1],\n",
    "        [1, 1, 1],\n",
    "        [1, 1, 1]\n",
    "    ])\n",
    "    image_averaging_filter = signal.convolve2d(image, averaging_filter)\n",
    "    return image_averaging_filter"
   ]
  },
  {
   "cell_type": "code",
   "execution_count": null,
   "metadata": {
    "collapsed": true
   },
   "outputs": [],
   "source": [
    "# Zaimplementuj funkcje, która jako argument przyjmuje obraz oraz pożądaną wielkość filtru medianowego. \n",
    "# Funkcja powinna zwracać obraz po filtracji medianowej."
   ]
  },
  {
   "cell_type": "code",
   "execution_count": null,
   "metadata": {
    "collapsed": true
   },
   "outputs": [],
   "source": [
    "def median_filter(image, size):\n",
    "    image_median_filter = nd.generic_filter(image, np.median, footprint = np.ones((size,size)))\n",
    "    return image_median_filter"
   ]
  },
  {
   "cell_type": "code",
   "execution_count": null,
   "metadata": {
    "collapsed": true
   },
   "outputs": [],
   "source": [
    "# zaimplementuj funkcję tworzącą obraz kółka"
   ]
  },
  {
   "cell_type": "code",
   "execution_count": null,
   "metadata": {
    "collapsed": true
   },
   "outputs": [],
   "source": [
    "def circle_generation(x_size, y_size, x_origin, y_origin, radius):\n",
    "    x, y = np.meshgrid(np.arange(x_size), np.arange(y_size))\n",
    "    image = np.square((x - x_origin)) + np.square((y - y_origin)) < radius*radius\n",
    "    return image"
   ]
  },
  {
   "cell_type": "code",
   "execution_count": null,
   "metadata": {
    "collapsed": true
   },
   "outputs": [],
   "source": [
    "# zaimplementuj funkcję tworzącą obraz prostokąta"
   ]
  },
  {
   "cell_type": "code",
   "execution_count": null,
   "metadata": {
    "collapsed": true
   },
   "outputs": [],
   "source": [
    "def generate_rectangle(x_size, y_size, x_b, y_b, width, height):\n",
    "    image = np.zeros((y_size, x_size))\n",
    "    image[y_b:y_b + height, x_b:x_b + width] = 1\n",
    "    return image"
   ]
  },
  {
   "cell_type": "code",
   "execution_count": null,
   "metadata": {
    "collapsed": true
   },
   "outputs": [],
   "source": [
    "# Zaimplementuj funkcje do oblicznia erozji z zadanym elementem strukturalnym."
   ]
  },
  {
   "cell_type": "code",
   "execution_count": null,
   "metadata": {
    "collapsed": true
   },
   "outputs": [],
   "source": [
    "def erosion(img, se):\n",
    "    image = nd.generic_filter(img, lambda a: np.min(a), footprint = se.T)\n",
    "    return image\n",
    "\n",
    "se = np.ones((11, 11))"
   ]
  },
  {
   "cell_type": "code",
   "execution_count": null,
   "metadata": {
    "collapsed": true
   },
   "outputs": [],
   "source": [
    "# Zaimplementuj funkcje do oblicznia dylatacji z zadanym elementem strukturalnym."
   ]
  },
  {
   "cell_type": "code",
   "execution_count": null,
   "metadata": {
    "collapsed": true
   },
   "outputs": [],
   "source": [
    "def dilation(img, se):\n",
    "    image =  nd.generic_filter(img, lambda a: np.max(a), footprint = se.T)\n",
    "    return image"
   ]
  },
  {
   "cell_type": "code",
   "execution_count": null,
   "metadata": {
    "collapsed": true
   },
   "outputs": [],
   "source": [
    "# Zaimplementuj funkcje do oblicznia otwarcia z zadanym elementem strukturalnym."
   ]
  },
  {
   "cell_type": "code",
   "execution_count": null,
   "metadata": {
    "collapsed": true
   },
   "outputs": [],
   "source": [
    "def opening(img, se):\n",
    "    image = dilation(erosion(img, se), se)\n",
    "    return image"
   ]
  },
  {
   "cell_type": "code",
   "execution_count": null,
   "metadata": {
    "collapsed": true
   },
   "outputs": [],
   "source": [
    "# Zaimplementuj funkcje do oblicznia zamknięcia z zadanym elementem strukturalnym."
   ]
  },
  {
   "cell_type": "code",
   "execution_count": null,
   "metadata": {
    "collapsed": true
   },
   "outputs": [],
   "source": [
    "def closing(img, se):\n",
    "    image = erosion(dilation(img, se), se)\n",
    "    return image"
   ]
  },
  {
   "cell_type": "code",
   "execution_count": null,
   "metadata": {
    "collapsed": true
   },
   "outputs": [],
   "source": [
    "# Zaimplementuj funkcje do wyznaczania histogramu obrazu. \n",
    "# Funkcja powinna przyjmowac jako wejscie obraz oraz pozadana liczbe \"pojemników\" (binów)."
   ]
  },
  {
   "cell_type": "code",
   "execution_count": null,
   "metadata": {
    "collapsed": true
   },
   "outputs": [],
   "source": [
    "def histogram(image, bins = 100):\n",
    "    cmax = image.max()\n",
    "    cmin = image.min()\n",
    "    bin_width = (cmax - cmin) // bins\n",
    "    axes_bins = np.linspace(cmin, cmax, bins+1)\n",
    "    hist = np.zeros(bins)\n",
    "    unique_values, unique_counts = np.unique(image, return_counts=True)\n",
    "    for i in range(bins):\n",
    "        if i < bins - 1:\n",
    "            current_mask = np.logical_and(unique_values >= i*bin_width + cmin, \n",
    "                                          unique_values < (i+1)*bin_width +cmin)\n",
    "        else:\n",
    "            current_mask = np.logical_and(unique_values >= i*bin_width + cmin, \n",
    "                                          unique_values <= (i+1)*bin_width +cmin)\n",
    "        current_counts = unique_counts[current_mask]\n",
    "        current_values = np.sum(current_counts)\n",
    "        hist[i] = current_values\n",
    "    return hist, axes_bins"
   ]
  },
  {
   "cell_type": "code",
   "execution_count": null,
   "metadata": {
    "collapsed": true
   },
   "outputs": [],
   "source": [
    "def histogram_equalization(image, bins = 100):\n",
    "    hist, axes_bins = histogram(image, bins = bins)\n",
    "    distance = np.cumsum(hist)\n",
    "    distance = distance / np.max(distance)\n",
    "    histogram_image = np.interp(image.ravel(), axes_bins[:-1], distance).reshape(image.shape)\n",
    "    return histogram_image"
   ]
  },
  {
   "cell_type": "code",
   "execution_count": null,
   "metadata": {
    "collapsed": true
   },
   "outputs": [],
   "source": [
    "plt.imshow(histogram_equalization(image, bins = 80))"
   ]
  },
  {
   "cell_type": "code",
   "execution_count": null,
   "metadata": {
    "collapsed": true
   },
   "outputs": [],
   "source": [
    "# Zaimplementuj algorytm rozrostu obszarów w wersji globalnej korzystajac z gotowej funkcji oznaczania \n",
    "# komponentów połaczonych. Nastepnie zastap funkcje oznaczania komponentów połaczonych własna funkcja ̨ \n",
    "# realizujaca to zadanie."
   ]
  },
  {
   "cell_type": "code",
   "execution_count": null,
   "metadata": {
    "collapsed": true
   },
   "outputs": [],
   "source": [
    "import queue\n",
    "\n",
    "def region_growing_local(image, seed, margin):\n",
    "    output_image = np.zeros(image.shape)\n",
    "    y_size, x_size = image.shape\n",
    "    initial_value = image[seed]\n",
    "    uth = initial_value + margin\n",
    "    dth = initial_value - margin\n",
    "\n",
    "    region_queue = queue.Queue()\n",
    "    region_queue.put(seed)\n",
    "    visited = set()\n",
    "\n",
    "    output_image[seed] = 1\n",
    "    visited.add(seed)\n",
    "\n",
    "    def get_neigh(coord):\n",
    "        output = []\n",
    "        iss = [-1, 0, 1]\n",
    "        for xs in iss:\n",
    "            for ys in iss:\n",
    "                c_ys = min(max(coord[0] + ys, 0), y_size - 1)\n",
    "                c_xs = min(max(coord[1] + xs, 0), x_size - 1)\n",
    "                output.append((c_ys, c_xs))\n",
    "        return output\n",
    "\n",
    "    while not region_queue.empty():\n",
    "        current_item = region_queue.get()\n",
    "        current_neighbours = get_neigh(current_item)\n",
    "\n",
    "        for neighbour in current_neighbours:\n",
    "            if neighbour in visited:\n",
    "                continue\n",
    "            else:\n",
    "                if image[neighbour] < uth and image[neighbour] > dth:\n",
    "                    output_image[neighbour] = 1\n",
    "                    region_queue.put(neighbour)\n",
    "                    visited.add(neighbour)\n",
    "\n",
    "\n",
    "    return output_image\n"
   ]
  },
  {
   "cell_type": "code",
   "execution_count": null,
   "metadata": {
    "collapsed": true
   },
   "outputs": [],
   "source": [
    "# Zaimplementuj algorytm rozrostu obszarów w wersji lokalnej."
   ]
  },
  {
   "cell_type": "code",
   "execution_count": null,
   "metadata": {
    "collapsed": true
   },
   "outputs": [],
   "source": [
    "def region_growing_global(image, seed, margin):\n",
    "    output_image = np.zeros(image.shape)\n",
    "    initial_value = image[seed]\n",
    "    uth = initial_value + margin\n",
    "    dth = initial_value - margin\n",
    "    thresholded_image = np.logical_and(image < uth, image > dth)\n",
    "    labaled_image = measure.label(thresholded_image, background=0)\n",
    "    output_image[labaled_image == labaled_image[seed]] = 1\n",
    "    return output_image"
   ]
  },
  {
   "cell_type": "code",
   "execution_count": null,
   "metadata": {
    "collapsed": true
   },
   "outputs": [],
   "source": [
    "import time\n",
    "\n",
    "b_t = time.time()\n",
    "# funkcja\n",
    "e_t = time.time()\n",
    "print(\"Time: \", e_t - b_t)"
   ]
  },
  {
   "cell_type": "code",
   "execution_count": null,
   "metadata": {
    "collapsed": true
   },
   "outputs": [],
   "source": [
    "def dice(image_1, image_2):\n",
    "    return (2 * np.sum(np.logical_and(image_1, image_2))) / (np.sum(image_1) + np.sum(image_2))"
   ]
  },
  {
   "cell_type": "code",
   "execution_count": null,
   "metadata": {
    "collapsed": true
   },
   "outputs": [],
   "source": [
    "def harris_corner(image, threshold, k, sigma=1):\n",
    "    hm = generate_harris_matrix(image, sigma)\n",
    "    hm_1 = hm\n",
    "    hm_2 = hm.swapaxes(0, 2).swapaxes(1, 3)\n",
    "    m_h = np.linalg.det(hm_2) - k*np.square(np.trace(hm_1))\n",
    "\n",
    "    response = (m_h > threshold).astype(np.int32)\n",
    "    response = m_h*response\n",
    "    maximas_y = sig.argrelmax(response, axis=0)\n",
    "    maximas_x = sig.argrelmax(response, axis=1)\n",
    "\n",
    "    m_x_p = np.array([maximas_x[1], maximas_x[0]]).T\n",
    "    m_y_p = np.array([maximas_y[1], maximas_y[0]]).T\n",
    "\n",
    "    t_x_p = set(map(tuple, m_x_p))\n",
    "    t_y_p = set(map(tuple, m_y_p))\n",
    "\n",
    "    maximas = tuple(t_x_p.intersection(t_y_p))\n",
    "    coords = np.array(maximas)\n",
    "    corners = np.zeros(image.shape)\n",
    "    corners[coords[:, 1], coords[:, 0]] = 1\n",
    "    return corners, coords\n"
   ]
  },
  {
   "cell_type": "code",
   "execution_count": null,
   "metadata": {
    "collapsed": true
   },
   "outputs": [],
   "source": [
    "def generate_harris_matrix(image, sigma=1):\n",
    "    gradient = np.gradient(image)\n",
    "    hm_11 = gradient[1]*gradient[1]\n",
    "    hm_12 = gradient[1]*gradient[0]\n",
    "    hm_21 = hm_12\n",
    "    hm_22 = gradient[0]*gradient[0]\n",
    "    hm_11 = nd.gaussian_filter(hm_11, sigma, mode='nearest')\n",
    "    hm_12 = nd.gaussian_filter(hm_12, sigma, mode='nearest')\n",
    "    hm_21 = hm_12\n",
    "    hm_22 = nd.gaussian_filter(hm_22, sigma, mode='nearest')\n",
    "    hm = np.array([\n",
    "        [hm_11, hm_12],\n",
    "        [hm_21, hm_22]\n",
    "    ])\n",
    "    return hm"
   ]
  },
  {
   "cell_type": "code",
   "execution_count": null,
   "metadata": {
    "collapsed": true
   },
   "outputs": [],
   "source": [
    "def hough_line_transform(image):\n",
    "    y_size, x_size = image.shape\n",
    "    x_grid, y_grid = np.meshgrid(np.arange(x_size), np.arange(y_size))\n",
    "    xs, ys = x_grid[image == 1].flatten(), y_grid[image == 1].flatten()\n",
    "\n",
    "    dmax = int(np.ceil(np.sqrt(y_size**2 + x_size**2)))\n",
    "    theta_space = np.arange(-90, 90)\n",
    "    rho_space = np.arange(-dmax, dmax)\n",
    "    hough_space = np.zeros((theta_space.size, rho_space.size))\n",
    "\n",
    "    for i in range(len(xs)):\n",
    "        x = xs[i]\n",
    "        y = ys[i]\n",
    "        for j in range(len(theta_space)):\n",
    "            theta = theta_space[j] * np.pi / 180\n",
    "            rho = int(x*np.cos(theta) + y*np.sin(theta)) + dmax\n",
    "            hough_space[j, rho] += 1\n",
    "\n",
    "    return hough_space, theta_space, rho_space"
   ]
  },
  {
   "cell_type": "code",
   "execution_count": null,
   "metadata": {
    "collapsed": true
   },
   "outputs": [],
   "source": [
    "def draw_lines(hough_space, theta_space, rho_space, n_best):\n",
    "    y_size, x_size = hough_space.shape\n",
    "    top_n = np.argsort(hough_space.ravel())[:-n_best-1:-1]\n",
    "    rho_indicies = top_n % x_size\n",
    "    theta_indicies = top_n // x_size\n",
    "\n",
    "    for i in range(n_best):\n",
    "        rho = rho_space[rho_indicies[i]]\n",
    "        theta = theta_space[theta_indicies[i]]\n",
    "        theta = theta*np.pi/180\n",
    "\n",
    "        print(rho, theta)\n",
    "        smth = 200\n",
    "        x0 = rho*np.cos(theta)\n",
    "        y0 = rho*np.sin(theta)\n",
    "        a = np.sin(theta)\n",
    "        b = -np.cos(theta)\n",
    "\n",
    "        x1, y1 = x0 + smth*a, y0 + smth*b\n",
    "        x2, y2 = x0 - smth*a, y0 - smth*b\n",
    "        plt.plot([x1, x2], [y1, y2], \"r-\")"
   ]
  },
  {
   "cell_type": "code",
   "execution_count": null,
   "metadata": {
    "collapsed": true
   },
   "outputs": [],
   "source": [
    "def non_maximum_supression(gradient_magnitude, gradient_angle):\n",
    "    gradient_angle = gradient_angle*180/np.pi\n",
    "    gradient_angle[gradient_angle < 0] = gradient_angle[gradient_angle < 0] + 180\n",
    "    classes = np.zeros(gradient_magnitude.shape)\n",
    "    classes[np.logical_or(gradient_angle < 22.5, gradient_angle >= 180 - 22.5)] = 1\n",
    "    classes[np.logical_and(gradient_angle < 45 + 22.5, gradient_angle >=  45 - 22.5)] = 2\n",
    "    classes[np.logical_and(gradient_angle < 90 + 22.5, gradient_angle >=  90 - 22.5)] = 3\n",
    "    classes[np.logical_and(gradient_angle < 135 + 22.5, gradient_angle >=  135 - 22.5)] = 4\n",
    "\n",
    "    y_size, x_size = np.shape(gradient_magnitude)\n",
    "    potential_edges = np.zeros(gradient_magnitude.shape)\n",
    "    for j in range(1, y_size - 1):\n",
    "        for i in range(1, x_size - 1):\n",
    "            if classes[j, i] == 1 and gradient_magnitude[j, i] > gradient_magnitude[j, i + 1] and gradient_magnitude[j, i] > gradient_magnitude[j, i - 1]:\n",
    "                potential_edges[j, i] = 1\n",
    "            elif classes[j, i] == 2 and gradient_magnitude[j, i] > gradient_magnitude[j - 1, i - 1] and gradient_magnitude[j, i] > gradient_magnitude[j + 1, i + 1]:\n",
    "                potential_edges[j, i] = 1\n",
    "            elif classes[j, i] == 3 and gradient_magnitude[j, i] > gradient_magnitude[j + 1, i] and gradient_magnitude[j, i] > gradient_magnitude[j - 1, i]:\n",
    "                potential_edges[j, i] = 1\n",
    "            elif classes[j, i] == 4 and gradient_magnitude[j, i] > gradient_magnitude[j + 1, i - 1] and gradient_magnitude[j, i] > gradient_magnitude[j - 1, i + 1]:\n",
    "                potential_edges[j, i] = 1\n",
    "    return potential_edges"
   ]
  },
  {
   "cell_type": "code",
   "execution_count": null,
   "metadata": {
    "collapsed": true
   },
   "outputs": [],
   "source": [
    "def otsu_threshold(image):\n",
    "    image = (image*255).astype(np.uint8)\n",
    "    histogram, bins = np.histogram(image.ravel(), bins=256, range=(0, 256))\n",
    "    w1 = np.cumsum(histogram)\n",
    "    w2 = np.cumsum(histogram[::-1])[::-1]\n",
    "    m1 = np.cumsum(histogram * bins[:-1]) / w1\n",
    "    m2 = (np.cumsum((histogram * bins[:-1])[::-1]) / w2[::-1])[::-1]\n",
    "    v = w1[:-1] * w2[1:] * (m1[:-1] - m2[1:])**2\n",
    "    threshold = bins[:-1][np.argmax(v)]\n",
    "    threshold = threshold / 255\n",
    "    return threshold"
   ]
  },
  {
   "cell_type": "code",
   "execution_count": null,
   "metadata": {
    "collapsed": true
   },
   "outputs": [],
   "source": [
    "def double_threshold(potential_edges, gradient_magnitude):\n",
    "    gradient_magnitude = gradient_magnitude/np.max(gradient_magnitude)\n",
    "    upper_threshold = otsu_threshold(gradient_magnitude)\n",
    "    lower_threshold = upper_threshold / 3\n",
    "    strong_indices = gradient_magnitude > upper_threshold\n",
    "    weak_indices = np.logical_and(gradient_magnitude <= upper_threshold, gradient_magnitude > lower_threshold)\n",
    "    strong_edges = np.logical_and(potential_edges, strong_indices)\n",
    "    weak_edges = np.logical_and(potential_edges, weak_indices)\n",
    "    return strong_edges, weak_edges"
   ]
  },
  {
   "cell_type": "code",
   "execution_count": null,
   "metadata": {
    "collapsed": true
   },
   "outputs": [],
   "source": [
    "def gen_rigid_matrix(xt, yt, rot):\n",
    "    rot = rot * np.pi / 180\n",
    "    return np.array([\n",
    "        [np.cos(rot), -np.sin(rot), xt],\n",
    "        [np.sin(rot), np.cos(rot), yt],\n",
    "        [0, 0, 1]\n",
    "    ])"
   ]
  },
  {
   "cell_type": "code",
   "execution_count": null,
   "metadata": {
    "collapsed": true
   },
   "outputs": [],
   "source": [
    "def rigid_transform(image, transform):\n",
    "    y_size, x_size = image.shape\n",
    "    transform = center_matrix(transform, x_size, y_size)\n",
    "    grid_x, grid_y = np.meshgrid(np.arange(x_size), np.arange(y_size))\n",
    "    n_grid_x, n_grid_y = rigid_dot(grid_x, grid_y, np.linalg.inv(transform))\n",
    "    transformed_image = interpolate_2d(image, n_grid_x, n_grid_y)\n",
    "    return transformed_image"
   ]
  },
  {
   "cell_type": "code",
   "execution_count": null,
   "metadata": {
    "collapsed": true
   },
   "outputs": [],
   "source": [
    "def center_matrix(transform, x_size, y_size):\n",
    "\tx_origin = (x_size - 1) / 2\n",
    "\ty_origin = (y_size - 1) / 2\n",
    "\tmatrix_1 = np.array([\n",
    "\t\t[1, 0, x_origin],\n",
    "\t\t[0, 1, y_origin],\n",
    "\t\t[0, 0, 1]\n",
    "\t])\n",
    "\tmatrix_2 = np.array([\n",
    "\t\t[1, 0, -x_origin],\n",
    "\t\t[0, 1, -y_origin],\n",
    "\t\t[0, 0, 1]\n",
    "\t])\n",
    "\tresult = matrix_1 @ transform @ matrix_2\n",
    "\treturn result"
   ]
  },
  {
   "cell_type": "code",
   "execution_count": null,
   "metadata": {
    "collapsed": true
   },
   "outputs": [],
   "source": [
    "def rigid_dot(grid_x, grid_y, transform):\n",
    "\tcoords = np.array([grid_x.ravel(), grid_y.ravel(), np.ones(grid_x.size)])\n",
    "\tnew_coords = transform @ coords\n",
    "\treturn new_coords[0, :].reshape(grid_x.shape), new_coords[1, :].reshape(grid_y.shape)"
   ]
  }
 ],
 "metadata": {
  "kernelspec": {
   "display_name": "Python 2",
   "language": "python",
   "name": "python2"
  },
  "language_info": {
   "codemirror_mode": {
    "name": "ipython",
    "version": 2
   },
   "file_extension": ".py",
   "mimetype": "text/x-python",
   "name": "python",
   "nbconvert_exporter": "python",
   "pygments_lexer": "ipython2",
   "version": "2.7.13"
  }
 },
 "nbformat": 4,
 "nbformat_minor": 2
}
